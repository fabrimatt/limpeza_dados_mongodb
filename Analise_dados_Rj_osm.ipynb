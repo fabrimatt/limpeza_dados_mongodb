{
 "cells": [
  {
   "cell_type": "markdown",
   "metadata": {},
   "source": [
    "#OpenStreetMap Sample Project\n",
    "#Data Wrangling with MongoDB\n",
    "\n",
    "Neste relatório estará sendo analisado os dados referentes a cidade do Rio de Janeiro, Rj - Brasil.\n",
    "Os dado foram extraídos do projeto [Open Street Map](http://https://www.openstreetmap.org/)."
   ]
  },
  {
   "cell_type": "markdown",
   "metadata": {},
   "source": [
    "**1- Inconsistências encontrados no mapa**\n",
    "\n",
    "Ao utilizar o script sample.py para geração de uma pequena amostra dos dados para validação, nota-se que existem informações do mesmo objeto em várias línguas, como por exemplo name:\"Pão de Açucar\", name:en:\"Sugar Loaf\".\n",
    "Além disso existem inconsistências nos campos de cidade, cep e telefone."
   ]
  },
  {
   "cell_type": "markdown",
   "metadata": {},
   "source": [
    "**1.1- Inconsistências encontrados no mapa**\n",
    "\n",
    "**Cidade**\n",
    "\n",
    "Para o campo cidade, o estudo em questão , seria utilizado apenas a cidade do Rio de Janeiro. Seguem exemplos de cidades diferentes do Rio de Janeiro encontradas na exploração dos dados."
   ]
  },
  {
   "cell_type": "code",
   "execution_count": null,
   "metadata": {
    "collapsed": true
   },
   "outputs": [],
   "source": [
    "# Cidades diferentes do RJ (15 maiores ocorrências)\n",
    "db.invalids.aggregate([{\"$group\":{\"_id\":\"$cidade\", \"count\":{\"$sum\":1}}},\n",
    "                        {\"$sort\":{\"count\":-1}},\n",
    "                        {\"$limit\":15}])\n",
    "\n",
    "{ \"_id\" : [ \"Niterói\" ], \"count\" : 211 }\n",
    "{ \"_id\" : [ \"São Gonçalo\" ], \"count\" : 60 }\n",
    "{ \"_id\" : null, \"count\" : 59 }\n",
    "{ \"_id\" : [ \"Nova Iguaçu\" ], \"count\" : 29 }\n",
    "{ \"_id\" : [ \"Duque de Caxias\" ], \"count\" : 28 }\n",
    "{ \"_id\" : [ \"Rua Monsenhor Magaldi\" ], \"count\" : 22 }\n",
    "{ \"_id\" : [ \"Itaboraí\" ], \"count\" : 22 }\n",
    "{ \"_id\" : [ \"Pechincha\" ], \"count\" : 11 }\n",
    "{ \"_id\" : [ \"Petrópolis\" ], \"count\" : 9 }\n",
    "{ \"_id\" : [ \"Belford Roxo\" ], \"count\" : 9 }\n",
    "{ \"_id\" : [ \"Magé\" ], \"count\" : 6 }\n",
    "{ \"_id\" : [ \"Camboinha\" ], \"count\" : 6 }\n",
    "{ \"_id\" : [ \"Queimados\" ], \"count\" : 6 }\n",
    "{ \"_id\" : [ \"São João de Meriti\" ], \"count\" : 6 }\n",
    "{ \"_id\" : [ \"Japeri\" ], \"count\" : 3 }\n"
   ]
  },
  {
   "cell_type": "markdown",
   "metadata": {
    "collapsed": true
   },
   "source": [
    "**1.2- Inconsistências encontrados no mapa**\n",
    "\n",
    "**Cep**\n",
    "\n",
    "Para o campo cep, foi utilizado apenas o range referente a cidade do Rio de Janeiro.  Seguem exemplos de ceps que não estão englobados no range\n",
    "da cidade do Rio de Janeiro encontrados na exploração dos dados."
   ]
  },
  {
   "cell_type": "code",
   "execution_count": null,
   "metadata": {
    "collapsed": true
   },
   "outputs": [],
   "source": [
    "# Ceps diferentes do RJ (15 maiores ocorrências)\n",
    "db.invalids.aggregate([{\"$group\":{\"_id\":\"$cep\", \"count\":{\"$sum\":1}}},\n",
    "                       {\"$sort\":{\"count\":-1}},\n",
    "                       {\"$limit\":15}])\n",
    "\n",
    "{ \"_id\" : null, \"count\" : 513 }\n",
    "{ \"_id\" : [ \"24435-490\" ], \"count\" : 3 }\n",
    "{ \"_id\" : [ \"25255-135\" ], \"count\" : 2 }\n",
    "{ \"_id\" : [ \"25255-315\" ], \"count\" : 2 }\n",
    "{ \"_id\" : [ \"24030-128\" ], \"count\" : 2 }\n",
    "{ \"_id\" : [ \"25900213\" ], \"count\" : 2 }\n",
    "{ \"_id\" : [ \"24030-001\" ], \"count\" : 1 }\n",
    "{ \"_id\" : [ \"24451-715\" ], \"count\" : 1 }\n",
    "{ \"_id\" : [ \"24342-040\" ], \"count\" : 1 }\n",
    "{ \"_id\" : [ \"24342-100\" ], \"count\" : 1 }\n",
    "{ \"_id\" : [ \"25725-595\" ], \"count\" : 1 }\n",
    "{ \"_id\" : [ \"25255-300\" ], \"count\" : 1 }"
   ]
  },
  {
   "cell_type": "markdown",
   "metadata": {
    "collapsed": true
   },
   "source": [
    "**1.3- Inconsistências encontrados no mapa**\n",
    "\n",
    "**Telefone**\n",
    "\n",
    "Para o campo telefone, seria utilizado apenas os telefones que tivessem o (DDI) no caso 55 para Brasil e (DDD) no caso 021 para cidade do Rio de Janeiro.\n",
    "Seguem exemplos de telefones diferentes do padrão +55 021 99999999 utilizados na cidade do Rio de Janeiro encontrados na exploração dos dados.\n"
   ]
  },
  {
   "cell_type": "code",
   "execution_count": null,
   "metadata": {
    "collapsed": true
   },
   "outputs": [],
   "source": [
    "# Telefones diferentes do padrão do RJ (15 maiores ocorrências)\n",
    "db.invalids.aggregate([{\"$group\":{\"_id\":\"$tel\", \"count\":{\"$sum\":1}}},\n",
    "                       {\"$sort\":{\"count\":-1}},\n",
    "                       {\"$limit\":15}])\n",
    "\n",
    "{ \"_id\" : null, \"count\" : 488 }\n",
    "{ \"_id\" : [ \"41088535\" ], \"count\" : 2 }\n",
    "{ \"_id\" : [ \"+55 11 30692651\" ], \"count\" : 2 }\n",
    "{ \"_id\" : [ \"08002828284\" ], \"count\" : 2 }\n",
    "{ \"_id\" : [ \"32853837\" ], \"count\" : 1 }\n",
    "{ \"_id\" : [ \"25234543\" ], \"count\" : 1 }\n",
    "{ \"_id\" : [ \"993250811\" ], \"count\" : 1 }\n",
    "{ \"_id\" : [ \"+55 190\" ], \"count\" : 1 }\n",
    "{ \"_id\" : [ \"2273-3269\" ], \"count\" : 1 }\n",
    "{ \"_id\" : [ \"+55 24 2233 0300;+55 24 2233 0360\" ], \"count\" : 1 }\n",
    "{ \"_id\" : [ \"1746\" ], \"count\" : 1 }\n",
    "{ \"_id\" : [ \"26330099\" ], \"count\" : 1 }\n",
    "{ \"_id\" : [ \"27615580\" ], \"count\" : 1 }\n",
    "{ \"_id\" : [ \"22290333\" ], \"count\" : 1 }\n",
    "{ \"_id\" : [ \"+55 11 30780250\" ], \"count\" : 1 }"
   ]
  },
  {
   "cell_type": "markdown",
   "metadata": {},
   "source": [
    "**2- Limpeza**\n",
    "\n",
    "Foram extraídos os campos referentes a línguas estrangeiras, mantendo apenas as denominações em português.\n",
    "Para os campos de endereço foram mantidos apenas o nome da rua, número, cep, cidade e país.\n",
    "\n",
    "Foi feito a limpeza do arquivo osm para os campo de cidade, pois para o estudo em questão, seria utilizado apenas a cidade do Rio de Janeiro. Cidades diferentes foram excluídas desta análise e armazenadas em uma coleção diferente no banco de dados.\n",
    "\n",
    "Também foi feito a limpeza do arquivo osm para os campo de cep, pois para o estudo em questão, seria utilizado apenas o range que abrange apenas a cidade do Rio de Janeiro. Ceps diferentes foram excluídos desta análise e armazenados em uma coleção diferente no banco de dados.\n",
    "\n",
    "Assim como cep e cidade, também foi feito a limpeza do arquivo osm para os campo de telefone, uma vez que seria utilizado apenas os telefones que tivessem do (DDI) no caso 55 para Brasil e (DDD) no caso 021 para cidade do Rio de Janeiro. Telefones diferentes foram excluídos desta análise e armazenados em uma coleção diferente no banco de dados.\n",
    "\n",
    "Após a análise nossso arquivo sofreu uma diminuição de aproxidamamente 14% em relação ao arquivo json original não auditado. "
   ]
  },
  {
   "cell_type": "markdown",
   "metadata": {
    "collapsed": true
   },
   "source": [
    "**Dados do arquivo**\n",
    "\n",
    "rj.osm..............315Mb  \n",
    "rj.osm.json.........742.8Mb\n",
    "rj_auditado_full....637.1Mb"
   ]
  },
  {
   "cell_type": "markdown",
   "metadata": {},
   "source": [
    "**2- Limpeza**\n",
    "\n",
    "**Cidade**\n",
    "\n",
    "Segue exemplo dos valores armazenados no banco de dados após a limpeza e ajuste no nome referente a cidade:"
   ]
  },
  {
   "cell_type": "code",
   "execution_count": null,
   "metadata": {
    "collapsed": true
   },
   "outputs": [],
   "source": [
    "# Cidades do RJ não auditado\n",
    "db.rj.aggregate([{\"$group\":{\"_id\":\"$cidade\", \"count\":{\"$sum\":1}}},\n",
    "                        {\"$sort\":{\"count\":-1}},\n",
    "                        {\"$limit\":15}])\n",
    "{ \"_id\" : null, \"count\" : 1602420 }\n",
    "{ \"_id\" : \"Rio de Janeiro\", \"count\" : 3117 }\n",
    "{ \"_id\" : \"rio de Janeiro\", \"count\" : 6 }\n",
    "{ \"_id\" : \"rio de janeiro\", \"count\" : 4 }\n",
    "{ \"_id\" : \"RIo de Janeiro\", \"count\" : 3 }\n",
    "{ \"_id\" : \"Rio de janeiro\", \"count\" : 2 }\n",
    "{ \"_id\" : \"RIO DE JANEIRO\", \"count\" : 1 }\n",
    "\n",
    "\n",
    "# Cidades do RJ auditado \n",
    "db.rj.aggregate([{\"$group\":{\"_id\":\"$cidade\", \"count\":{\"$sum\":1}}},\n",
    "                        {\"$sort\":{\"count\":-1}},\n",
    "                        {\"$limit\":15}])\n",
    "\n",
    "{ \"_id\" : null, \"count\" : 1602420 }\n",
    "{ \"_id\" : \"Rio de Janeiro\", \"count\" : 3133 }\n",
    "    "
   ]
  },
  {
   "cell_type": "code",
   "execution_count": null,
   "metadata": {
    "collapsed": true
   },
   "outputs": [],
   "source": [
    "# Numeros de documentos\n",
    "db.rj.find().count()\n",
    "1.605.553\n"
   ]
  },
  {
   "cell_type": "code",
   "execution_count": null,
   "metadata": {
    "collapsed": true
   },
   "outputs": [],
   "source": [
    "# Numeros de nodes                                                \n",
    "db.rj.find({\"type\":\"node\"}).count()\n",
    "1.421.902\n"
   ]
  },
  {
   "cell_type": "code",
   "execution_count": null,
   "metadata": {
    "collapsed": true
   },
   "outputs": [],
   "source": [
    "# Number of ways                                                \n",
    "db.rj.find({\"type\":\"way\"}).count()\n",
    "183.482\n"
   ]
  },
  {
   "cell_type": "code",
   "execution_count": null,
   "metadata": {
    "collapsed": true
   },
   "outputs": [],
   "source": [
    "# Numero de usuários únicos                                                \n",
    "db.rj.distinct(\"created.user\").length\n",
    "1.291\n"
   ]
  },
  {
   "cell_type": "code",
   "execution_count": null,
   "metadata": {
    "collapsed": true
   },
   "outputs": [],
   "source": [
    "# 5 usuários mais ativos                                                \n",
    "db.rj.aggregate([{\"$group\":{\"_id\":\"$created.user\", \"count\":{\"$sum\":1}}},\n",
    "                 {\"$sort\":{\"count\":-1}},\n",
    "                 {\"$limit\":5}])\n",
    "\n",
    "{ \"_id\" : \"Alexandrecw\", \"count\" : 331092 }\n",
    "{ \"_id\" : \"smaprs_import\", \"count\" : 185130 }\n",
    "{ \"_id\" : \"ThiagoPv\", \"count\" : 184360 }\n",
    "{ \"_id\" : \"AlNo\", \"count\" : 162795 }\n",
    "{ \"_id\" : \"Import Rio\", \"count\" : 84938 }\n"
   ]
  },
  {
   "cell_type": "code",
   "execution_count": null,
   "metadata": {
    "collapsed": true
   },
   "outputs": [],
   "source": [
    "# Quantidade de Supermercados   \n",
    "db.rj.aggregate({\"$match\": {\"shop\":\"supermarket\"}},\n",
    "                {\"$group\":{\"_id\":\"$name\", \"count\":{\"$sum\":1}}},\n",
    "                {\"$sort\":{\"count\":-1}})\n",
    "\n",
    "{ \"_id\" : null, \"count\" : 37 }\n",
    "{ \"_id\" : \"Extra\", \"count\" : 27 }\n",
    "{ \"_id\" : \"Zona Sul\", \"count\" : 25 }\n",
    "{ \"_id\" : \"Prezunic\", \"count\" : 21 }\n",
    "{ \"_id\" : \"Supermarket\", \"count\" : 20 }\n",
    "{ \"_id\" : \"Mundial\", \"count\" : 14 }\n",
    "{ \"_id\" : \"Guanabara\", \"count\" : 12 }\n",
    "{ \"_id\" : \"Pão de Açúcar\", \"count\" : 10 }\n",
    "{ \"_id\" : \"Hortifruti\", \"count\" : 8 }\n",
    "{ \"_id\" : \"Multi Market\", \"count\" : 7 }\n",
    "{ \"_id\" : \"Carrefour\", \"count\" : 6 }\n",
    "{ \"_id\" : \"Super Market\", \"count\" : 5 }\n",
    "{ \"_id\" : \"Princesa\", \"count\" : 5 }\n",
    "{ \"_id\" : \"Rede Economia\", \"count\" : 5 }\n",
    "{ \"_id\" : \"Atacadão\", \"count\" : 4 }\n",
    "{ \"_id\" : \"Campeão\", \"count\" : 4 }\n",
    "{ \"_id\" : \"Intercontinental\", \"count\" : 4 }\n",
    "{ \"_id\" : \"Assaí\", \"count\" : 4 }\n",
    "{ \"_id\" : \"Super Rede\", \"count\" : 3 }\n",
    "{ \"_id\" : \"Extra Supermercado\", \"count\" : 3 }\n",
    "{ \"_id\" : \"Mercado\", \"count\" : 3 }\n",
    "{ \"_id\" : \"SuperMarket\", \"count\" : 3 }\n",
    "{ \"_id\" : \"MercaDez\", \"count\" : 3 }\n",
    "{ \"_id\" : \"Mundo Verde\", \"count\" : 3 }\n",
    "{ \"_id\" : \"Unidos\", \"count\" : 2 }\n",
    "{ \"_id\" : \"Makro\", \"count\" : 2 }\n",
    "{ \"_id\" : \"Supermercado Mundial\", \"count\" : 2 }\n",
    "{ \"_id\" : \"Via Verde\", \"count\" : 2 }\n",
    "{ \"_id\" : \"Supermercado Prezunic\", \"count\" : 2 }\n",
    "{ \"_id\" : \"Supermercado Guanabara\", \"count\" : 2 }\n",
    "{ \"_id\" : \"Supermercado Rede Economia\", \"count\" : 2 }\n",
    "{ \"_id\" : \"Real\", \"count\" : 2 }\n",
    "{ \"_id\" : \"Prix\", \"count\" : 2 }\n",
    "{ \"_id\" : \"Pão de Açucar\", \"count\" : 2 }\n",
    "{ \"_id\" : \"SuperRede\", \"count\" : 2 }\n",
    "{ \"_id\" : \"Supermercado Grand Marché\", \"count\" : 2 }\n",
    "{ \"_id\" : \"Supermercado Extra\", \"count\" : 2 }\n",
    "{ \"_id\" : \"Ultra\", \"count\" : 2 }\n",
    "{ \"_id\" : \"Armazen Urbana\", \"count\" : 1 }\n",
    "{ \"_id\" : \"Vianense\", \"count\" : 1 }"
   ]
  },
  {
   "cell_type": "code",
   "execution_count": null,
   "metadata": {
    "collapsed": true
   },
   "outputs": [],
   "source": [
    "# Quantidade de pontos turistíscos da Cidade do RJ\n",
    "db.rj.find({\"tourism\":\"attraction\"}).count()\n",
    "90\n",
    "\n",
    "#Exemplos de pontos turísticos da Cidade do Rj\n",
    "db.rj.aggregate({\"$match\": {\"tourism\":\"attraction\"}},\n",
    "                {\"$group\":{\"_id\":{\"name\":\"$name\", \"cidade\": \"$address.city\"}}})\n",
    "\n",
    "{ \"_id\" : { \"name\" : \"Sítio Roberto Burle Marx\", \"cidade\" : \"Rio de Janeiro\" } }\n",
    "{ \"_id\" : { \"name\" : \"Palácio de Cristal\" } }\n",
    "{ \"_id\" : { \"name\" : \"Monumento Nacional aos Mortos da Segunda Guerra Mundial\" } }\n",
    "{ \"_id\" : { \"name\" : \"GRES Mocidade Independente de Padre Miguel\" } }\n",
    "{ \"_id\" : { \"name\" : \"GRES Unidos da Tijuca\" } }\n",
    "{ \"_id\" : { \"name\" : \"Bom Retiro\" } }\n",
    "{ \"_id\" : { \"name\" : \"Pedra do Sal\" } }\n",
    "{ \"_id\" : { \"name\" : \"Igreja de Nossa Senhora do Monte do Carmo\", \"cidade\" : \"Rio de Janeiro\" } }\n",
    "{ \"_id\" : { \"name\" : \"Igreja de Nossa Senhora da Lapa dos Mercadores\" } }\n",
    "{ \"_id\" : { \"name\" : \"Centro de Artes Calouste Gulbenkian\" } }\n",
    "{ \"_id\" : { \"name\" : \"Palácio Laranjeiras\", \"cidade\" : \"Rio de Janeiro\" } }\n",
    "{ \"_id\" : { \"name\" : \"Cais do Valongo\" } }\n",
    "{ \"_id\" : { \"name\" : \"Forte São Luiz\" } }\n",
    "{ \"_id\" : { \"name\" : \"Parque da Cidade\" } }\n",
    "{ \"_id\" : { \"name\" : \"Centro de Visitantes - Floresta da Tijuca\" } }\n",
    "{ \"_id\" : { \"name\" : \"GRES São Clemente\" } }\n",
    "{ \"_id\" : { \"name\" : \"Praça da Apoteose\" } }\n",
    "{ \"_id\" : { \"name\" : \"Arco do Teles\" } }\n",
    "{ \"_id\" : { \"name\" : \"Igreja da Santa Cruz dos Militares\" } }\n",
    "{ \"_id\" : { \"name\" : \"Monumento Noel Rosa\" } }\n"
   ]
  },
  {
   "cell_type": "markdown",
   "metadata": {
    "collapsed": true
   },
   "source": [
    "** 3- Análise e Sugestões**\n",
    "\n",
    "O arquivo do Open Street Map é uma fonte muito poderosa de informação. Nele pode ser extraído informações para vários\n",
    "de segmentos, tais como: restaurantes, ponto de venda, recomendação de produtos.\n",
    "Uma das grandes vantagem, senão a melhor,é ser colaborativo, ou seja, os usuários inputam as informações,\n",
    "o que torna esses dados um grande fonte de consulta. \n",
    "\n",
    "Porém, a sua maior virtude também é seu maior problema, uma vez que é possível inserir qualquer informação, o processo de \n",
    "auditoria e validação dos dados consome um grande quantidade de tempo dos analistas de dados.\n",
    "\n",
    "Para este estudo, foram analisadas 5 variáveis dos dados para tornar o resultado final mais confiável, sendo eles:\n",
    "    - Auditoria da cidade a ser analisada;\n",
    "    - Auditoria dos ceps;\n",
    "    - Auditoria dos telefones;\n",
    "    - Auditoria do idioma a ser analisado;\n",
    "    - Auditoria do formato do nome da cidade.\n",
    "\n",
    "Esses são alguns exemplos que foram auditados e sofreram um processo de limpeza, para que as informações geradas a partir \n",
    "destes dados fossem mais completas e verídicas. O processo de auditoria e limpeza foi feito por meio de programação,\n",
    "uma vez que, devido a grande quantidade de dados, seria inviável fazê-lo manualmente.\n",
    "\n",
    "De antemão, já era esperado que nem todas as informações estivessem completas, corretas ou coerentes, neste caso,a maior parte \n",
    "gasta no projeto, foi na implementação de programas para auditoria e limpeza.\n",
    "\n",
    "Como sugestão de melhoria para a acurácia das informações, seria necessário haver filtros de checagem para alguma informações\n",
    "inputadas pelos usuários, tais como:\n",
    "    - Inclusão automática do cep por meio da longitude e latitude;\n",
    "    - Formato de telefone padronizado por localidade;\n",
    "\n",
    "    \n"
   ]
  },
  {
   "cell_type": "markdown",
   "metadata": {},
   "source": [
    "**4- Conclusão**\n",
    "\n",
    "O arquivo do Open street Map, é um repotório vasto e rico para pesquisas relativas a dados geográficos. Porém como é alimentado por usuários, alguns destes dados precisam ser limpos e validados. A limpeza no caso deste projeto, se deu no sentido de retornar informações relevantes a pesquisa de informações da cidadade do Rio de Janeiro, assim como apenas utilizar a língua portuguesa.\n",
    "\n",
    "Existe, como toda base de dados, informações incompletas, mas com um limpeza prévia e uma verificação dos dados antes de coletar as informações, foi possível fazer uma pesquisa relevante de dados geográficos da cidade do RJ.\n"
   ]
  }
 ],
 "metadata": {
  "anaconda-cloud": {},
  "kernelspec": {
   "display_name": "Python [conda root]",
   "language": "python",
   "name": "conda-root-py"
  },
  "language_info": {
   "codemirror_mode": {
    "name": "ipython",
    "version": 2
   },
   "file_extension": ".py",
   "mimetype": "text/x-python",
   "name": "python",
   "nbconvert_exporter": "python",
   "pygments_lexer": "ipython2",
   "version": "2.7.12"
  }
 },
 "nbformat": 4,
 "nbformat_minor": 1
}
